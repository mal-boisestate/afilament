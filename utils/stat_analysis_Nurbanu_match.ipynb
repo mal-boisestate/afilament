{
 "cells": [
  {
   "cell_type": "code",
   "execution_count": 94,
   "metadata": {
    "collapsed": true
   },
   "outputs": [],
   "source": [
    "import pandas as pd\n",
    "import scipy\n",
    "import seaborn as sns\n",
    "import os"
   ]
  },
  {
   "cell_type": "code",
   "execution_count": 75,
   "outputs": [],
   "source": [
    "def get_filtered_df(data_dir, part, cell_nums, set_num):\n",
    "    df = pd.DataFrame({})\n",
    "    for i, file_name in enumerate(os.listdir(data_dir)):\n",
    "        file_path = data_dir+\"\\\\\"+file_name\n",
    "        if file_name.__contains__(part):\n",
    "            current_num = file_name.split('_')[0]\n",
    "            if any(current_num == num for num in cell_nums):\n",
    "                actin_df = pd.read_csv(file_path)\n",
    "                # filter df based on actin length. For that analysis we use >= 1 um\n",
    "                actin_df[\"cell num\"] = file_name.split('_')[0]\n",
    "                actin_df[\"set num\"] = set_num\n",
    "                actin_df[\"part\"] = part\n",
    "                actin_df = actin_df.loc[actin_df['Actin Length'] >= 1]\n",
    "                df = df.append(actin_df)\n",
    "    return df\n"
   ],
   "metadata": {
    "collapsed": false
   }
  },
  {
   "cell_type": "markdown",
   "source": [
    "## Control Data Set"
   ],
   "metadata": {
    "collapsed": false
   }
  },
  {
   "cell_type": "code",
   "execution_count": 82,
   "outputs": [
    {
     "data": {
      "text/plain": "Empty DataFrame\nColumns: []\nIndex: []",
      "text/html": "<div>\n<style scoped>\n    .dataframe tbody tr th:only-of-type {\n        vertical-align: middle;\n    }\n\n    .dataframe tbody tr th {\n        vertical-align: top;\n    }\n\n    .dataframe thead th {\n        text-align: right;\n    }\n</style>\n<table border=\"1\" class=\"dataframe\">\n  <thead>\n    <tr style=\"text-align: right;\">\n      <th></th>\n    </tr>\n  </thead>\n  <tbody>\n  </tbody>\n</table>\n</div>"
     },
     "execution_count": 82,
     "metadata": {},
     "output_type": "execute_result"
    }
   ],
   "source": [
    "cnt_df = pd.DataFrame({})\n",
    "\n",
    "# First Control data set\n",
    "data_dir_cnt_set1 = r\"D:\\BioLab\\Current_experiments\\afilament\\2022.01.15_KASH_leica_cells_stat\\Control\\2022.01.25_KASH_cnt_analysis_data\\actin_stat\"\n",
    "Cell_num_cnt_set1 = [\"1\", \"2\", \"3\", \"4\", \"6\", \"7\", \"8\", \"9\", \"11\", \"12\", \"16\"]\n",
    "\n",
    "# Second Control data set\n",
    "data_dir_cnt_set2 = r\"D:\\BioLab\\Current_experiments\\afilament\\2022.01.15_KASH_leica_cells_stat\\Control\\2022.01.28_KASH_cnt_2set_0-8_cells_analysis_data\\analysis_data\\actin_stat\"\n",
    "Cell_num_cnt_set2 = [\"1\", \"2\", \"3\", \"4\", \"5\", \"6\", \"7\", \"8\"]\n",
    "cnt_df"
   ],
   "metadata": {
    "collapsed": false
   }
  },
  {
   "cell_type": "markdown",
   "source": [
    "#### Actin cap statistics"
   ],
   "metadata": {
    "collapsed": false
   }
  },
  {
   "cell_type": "code",
   "execution_count": 83,
   "outputs": [],
   "source": [
    "cnt_cap_set1_df = get_filtered_df(data_dir_cnt_set1, \"cap\", Cell_num_cnt_set1, 1)\n",
    "cnt_cap_set2_df = get_filtered_df(data_dir_cnt_set2, \"cap\", Cell_num_cnt_set2, 2)\n",
    "\n",
    "# Combine two data sets\n",
    "cnt_cap_df = cnt_cap_set1_df.append(cnt_cap_set2_df)\n",
    "cnt_df = cnt_df.append(cnt_cap_df)"
   ],
   "metadata": {
    "collapsed": false
   }
  },
  {
   "cell_type": "markdown",
   "source": [
    "#### Actin bottom statistics"
   ],
   "metadata": {
    "collapsed": false
   }
  },
  {
   "cell_type": "code",
   "execution_count": 85,
   "outputs": [
    {
     "data": {
      "text/plain": "      ID  Actin Length  Actin Xsection  Actin Volume  Number of fiber layers  \\\n0      0       2.17634        0.017762      0.038656                      38   \n1      1      10.35232        0.117989      1.221459                     177   \n2      2       4.58796        0.086745      0.397981                      79   \n12    12      19.70470        0.130620      2.573824                     336   \n20    20      10.64642        0.128666      1.369827                     182   \n..   ...           ...             ...           ...                     ...   \n604  604       3.82330        0.096852      0.370296                      66   \n634  634       4.29386        0.132631      0.569500                      74   \n659  659       2.70572        0.079745      0.215767                      47   \n678  678       2.70572        0.084813      0.229481                      47   \n706  706       1.52932        0.069408      0.106146                      27   \n\n     Max gap  Left node ID  Right node ID cell num  set num    part  \n0          0           NaN            NaN       11        1     cap  \n1          0           NaN            NaN       11        1     cap  \n2          0           NaN            NaN       11        1     cap  \n12         0           NaN            NaN       11        1     cap  \n20         0           NaN            NaN       11        1     cap  \n..       ...           ...            ...      ...      ...     ...  \n604        0           NaN            NaN        8        2  bottom  \n634        0           NaN            NaN        8        2  bottom  \n659        0           NaN            NaN        8        2  bottom  \n678        0           NaN            NaN        8        2  bottom  \n706        0           NaN            NaN        8        2  bottom  \n\n[2216 rows x 11 columns]",
      "text/html": "<div>\n<style scoped>\n    .dataframe tbody tr th:only-of-type {\n        vertical-align: middle;\n    }\n\n    .dataframe tbody tr th {\n        vertical-align: top;\n    }\n\n    .dataframe thead th {\n        text-align: right;\n    }\n</style>\n<table border=\"1\" class=\"dataframe\">\n  <thead>\n    <tr style=\"text-align: right;\">\n      <th></th>\n      <th>ID</th>\n      <th>Actin Length</th>\n      <th>Actin Xsection</th>\n      <th>Actin Volume</th>\n      <th>Number of fiber layers</th>\n      <th>Max gap</th>\n      <th>Left node ID</th>\n      <th>Right node ID</th>\n      <th>cell num</th>\n      <th>set num</th>\n      <th>part</th>\n    </tr>\n  </thead>\n  <tbody>\n    <tr>\n      <th>0</th>\n      <td>0</td>\n      <td>2.17634</td>\n      <td>0.017762</td>\n      <td>0.038656</td>\n      <td>38</td>\n      <td>0</td>\n      <td>NaN</td>\n      <td>NaN</td>\n      <td>11</td>\n      <td>1</td>\n      <td>cap</td>\n    </tr>\n    <tr>\n      <th>1</th>\n      <td>1</td>\n      <td>10.35232</td>\n      <td>0.117989</td>\n      <td>1.221459</td>\n      <td>177</td>\n      <td>0</td>\n      <td>NaN</td>\n      <td>NaN</td>\n      <td>11</td>\n      <td>1</td>\n      <td>cap</td>\n    </tr>\n    <tr>\n      <th>2</th>\n      <td>2</td>\n      <td>4.58796</td>\n      <td>0.086745</td>\n      <td>0.397981</td>\n      <td>79</td>\n      <td>0</td>\n      <td>NaN</td>\n      <td>NaN</td>\n      <td>11</td>\n      <td>1</td>\n      <td>cap</td>\n    </tr>\n    <tr>\n      <th>12</th>\n      <td>12</td>\n      <td>19.70470</td>\n      <td>0.130620</td>\n      <td>2.573824</td>\n      <td>336</td>\n      <td>0</td>\n      <td>NaN</td>\n      <td>NaN</td>\n      <td>11</td>\n      <td>1</td>\n      <td>cap</td>\n    </tr>\n    <tr>\n      <th>20</th>\n      <td>20</td>\n      <td>10.64642</td>\n      <td>0.128666</td>\n      <td>1.369827</td>\n      <td>182</td>\n      <td>0</td>\n      <td>NaN</td>\n      <td>NaN</td>\n      <td>11</td>\n      <td>1</td>\n      <td>cap</td>\n    </tr>\n    <tr>\n      <th>...</th>\n      <td>...</td>\n      <td>...</td>\n      <td>...</td>\n      <td>...</td>\n      <td>...</td>\n      <td>...</td>\n      <td>...</td>\n      <td>...</td>\n      <td>...</td>\n      <td>...</td>\n      <td>...</td>\n    </tr>\n    <tr>\n      <th>604</th>\n      <td>604</td>\n      <td>3.82330</td>\n      <td>0.096852</td>\n      <td>0.370296</td>\n      <td>66</td>\n      <td>0</td>\n      <td>NaN</td>\n      <td>NaN</td>\n      <td>8</td>\n      <td>2</td>\n      <td>bottom</td>\n    </tr>\n    <tr>\n      <th>634</th>\n      <td>634</td>\n      <td>4.29386</td>\n      <td>0.132631</td>\n      <td>0.569500</td>\n      <td>74</td>\n      <td>0</td>\n      <td>NaN</td>\n      <td>NaN</td>\n      <td>8</td>\n      <td>2</td>\n      <td>bottom</td>\n    </tr>\n    <tr>\n      <th>659</th>\n      <td>659</td>\n      <td>2.70572</td>\n      <td>0.079745</td>\n      <td>0.215767</td>\n      <td>47</td>\n      <td>0</td>\n      <td>NaN</td>\n      <td>NaN</td>\n      <td>8</td>\n      <td>2</td>\n      <td>bottom</td>\n    </tr>\n    <tr>\n      <th>678</th>\n      <td>678</td>\n      <td>2.70572</td>\n      <td>0.084813</td>\n      <td>0.229481</td>\n      <td>47</td>\n      <td>0</td>\n      <td>NaN</td>\n      <td>NaN</td>\n      <td>8</td>\n      <td>2</td>\n      <td>bottom</td>\n    </tr>\n    <tr>\n      <th>706</th>\n      <td>706</td>\n      <td>1.52932</td>\n      <td>0.069408</td>\n      <td>0.106146</td>\n      <td>27</td>\n      <td>0</td>\n      <td>NaN</td>\n      <td>NaN</td>\n      <td>8</td>\n      <td>2</td>\n      <td>bottom</td>\n    </tr>\n  </tbody>\n</table>\n<p>2216 rows × 11 columns</p>\n</div>"
     },
     "execution_count": 85,
     "metadata": {},
     "output_type": "execute_result"
    }
   ],
   "source": [
    "cnt_bottom_set1_df = get_filtered_df(data_dir_cnt_set1, \"bottom\", Cell_num_cnt_set1, 1)\n",
    "cnt_bottom_set2_df = get_filtered_df(data_dir_cnt_set2, \"bottom\", Cell_num_cnt_set2, 2)\n",
    "\n",
    "# Combine two data sets\n",
    "cnt_bottom_df = cnt_bottom_set1_df.append(cnt_bottom_set2_df)\n",
    "\n",
    "cnt_df = cnt_df.append(cnt_bottom_df)\n",
    "cnt_df"
   ],
   "metadata": {
    "collapsed": false
   }
  },
  {
   "cell_type": "markdown",
   "source": [
    "#### Actin whole cells statistics"
   ],
   "metadata": {
    "collapsed": false
   }
  },
  {
   "cell_type": "code",
   "execution_count": 86,
   "outputs": [
    {
     "data": {
      "text/plain": "       ID  Actin Length  Actin Xsection  Actin Volume  Number of fiber layers  \\\n0       0       2.17634        0.017762      0.038656                      38   \n1       1      10.35232        0.117989      1.221459                     177   \n2       2       4.58796        0.086745      0.397981                      79   \n12     12      19.70470        0.130620      2.573824                     336   \n20     20      10.64642        0.128666      1.369827                     182   \n..    ...           ...             ...           ...                     ...   \n173  1159       1.05876        0.091527      0.096905                      19   \n174  1454       1.05876        0.042629      0.045134                      19   \n175  1481       1.05876        0.043883      0.046461                      19   \n176  1608       1.05876        0.030927      0.032744                      19   \n177  1888       1.05876        0.089019      0.094250                      19   \n\n     Max gap  Left node ID  Right node ID cell num  set num  part  \n0          0           NaN            NaN       11        1   cap  \n1          0           NaN            NaN       11        1   cap  \n2          0           NaN            NaN       11        1   cap  \n12         0           NaN            NaN       11        1   cap  \n20         0           NaN            NaN       11        1   cap  \n..       ...           ...            ...      ...      ...   ...  \n173        0           NaN            NaN        8        2  cell  \n174        0           NaN            NaN        8        2  cell  \n175        0           NaN            NaN        8        2  cell  \n176        0           NaN            NaN        8        2  cell  \n177        0           NaN            NaN        8        2  cell  \n\n[3923 rows x 11 columns]",
      "text/html": "<div>\n<style scoped>\n    .dataframe tbody tr th:only-of-type {\n        vertical-align: middle;\n    }\n\n    .dataframe tbody tr th {\n        vertical-align: top;\n    }\n\n    .dataframe thead th {\n        text-align: right;\n    }\n</style>\n<table border=\"1\" class=\"dataframe\">\n  <thead>\n    <tr style=\"text-align: right;\">\n      <th></th>\n      <th>ID</th>\n      <th>Actin Length</th>\n      <th>Actin Xsection</th>\n      <th>Actin Volume</th>\n      <th>Number of fiber layers</th>\n      <th>Max gap</th>\n      <th>Left node ID</th>\n      <th>Right node ID</th>\n      <th>cell num</th>\n      <th>set num</th>\n      <th>part</th>\n    </tr>\n  </thead>\n  <tbody>\n    <tr>\n      <th>0</th>\n      <td>0</td>\n      <td>2.17634</td>\n      <td>0.017762</td>\n      <td>0.038656</td>\n      <td>38</td>\n      <td>0</td>\n      <td>NaN</td>\n      <td>NaN</td>\n      <td>11</td>\n      <td>1</td>\n      <td>cap</td>\n    </tr>\n    <tr>\n      <th>1</th>\n      <td>1</td>\n      <td>10.35232</td>\n      <td>0.117989</td>\n      <td>1.221459</td>\n      <td>177</td>\n      <td>0</td>\n      <td>NaN</td>\n      <td>NaN</td>\n      <td>11</td>\n      <td>1</td>\n      <td>cap</td>\n    </tr>\n    <tr>\n      <th>2</th>\n      <td>2</td>\n      <td>4.58796</td>\n      <td>0.086745</td>\n      <td>0.397981</td>\n      <td>79</td>\n      <td>0</td>\n      <td>NaN</td>\n      <td>NaN</td>\n      <td>11</td>\n      <td>1</td>\n      <td>cap</td>\n    </tr>\n    <tr>\n      <th>12</th>\n      <td>12</td>\n      <td>19.70470</td>\n      <td>0.130620</td>\n      <td>2.573824</td>\n      <td>336</td>\n      <td>0</td>\n      <td>NaN</td>\n      <td>NaN</td>\n      <td>11</td>\n      <td>1</td>\n      <td>cap</td>\n    </tr>\n    <tr>\n      <th>20</th>\n      <td>20</td>\n      <td>10.64642</td>\n      <td>0.128666</td>\n      <td>1.369827</td>\n      <td>182</td>\n      <td>0</td>\n      <td>NaN</td>\n      <td>NaN</td>\n      <td>11</td>\n      <td>1</td>\n      <td>cap</td>\n    </tr>\n    <tr>\n      <th>...</th>\n      <td>...</td>\n      <td>...</td>\n      <td>...</td>\n      <td>...</td>\n      <td>...</td>\n      <td>...</td>\n      <td>...</td>\n      <td>...</td>\n      <td>...</td>\n      <td>...</td>\n      <td>...</td>\n    </tr>\n    <tr>\n      <th>173</th>\n      <td>1159</td>\n      <td>1.05876</td>\n      <td>0.091527</td>\n      <td>0.096905</td>\n      <td>19</td>\n      <td>0</td>\n      <td>NaN</td>\n      <td>NaN</td>\n      <td>8</td>\n      <td>2</td>\n      <td>cell</td>\n    </tr>\n    <tr>\n      <th>174</th>\n      <td>1454</td>\n      <td>1.05876</td>\n      <td>0.042629</td>\n      <td>0.045134</td>\n      <td>19</td>\n      <td>0</td>\n      <td>NaN</td>\n      <td>NaN</td>\n      <td>8</td>\n      <td>2</td>\n      <td>cell</td>\n    </tr>\n    <tr>\n      <th>175</th>\n      <td>1481</td>\n      <td>1.05876</td>\n      <td>0.043883</td>\n      <td>0.046461</td>\n      <td>19</td>\n      <td>0</td>\n      <td>NaN</td>\n      <td>NaN</td>\n      <td>8</td>\n      <td>2</td>\n      <td>cell</td>\n    </tr>\n    <tr>\n      <th>176</th>\n      <td>1608</td>\n      <td>1.05876</td>\n      <td>0.030927</td>\n      <td>0.032744</td>\n      <td>19</td>\n      <td>0</td>\n      <td>NaN</td>\n      <td>NaN</td>\n      <td>8</td>\n      <td>2</td>\n      <td>cell</td>\n    </tr>\n    <tr>\n      <th>177</th>\n      <td>1888</td>\n      <td>1.05876</td>\n      <td>0.089019</td>\n      <td>0.094250</td>\n      <td>19</td>\n      <td>0</td>\n      <td>NaN</td>\n      <td>NaN</td>\n      <td>8</td>\n      <td>2</td>\n      <td>cell</td>\n    </tr>\n  </tbody>\n</table>\n<p>3923 rows × 11 columns</p>\n</div>"
     },
     "execution_count": 86,
     "metadata": {},
     "output_type": "execute_result"
    }
   ],
   "source": [
    "cnt_cell_set1_df = get_filtered_df(data_dir_cnt_set1, \"cell\", Cell_num_cnt_set1, 1)\n",
    "cnt_cell_set2_df = get_filtered_df(data_dir_cnt_set2, \"cell\", Cell_num_cnt_set2, 2)\n",
    "\n",
    "# Combine two data sets\n",
    "cnt_cell_df = cnt_cell_set1_df.append(cnt_cell_set2_df)\n",
    "\n",
    "cnt_df = cnt_df.append(cnt_cell_df)\n",
    "cnt_df"
   ],
   "metadata": {
    "collapsed": false
   }
  },
  {
   "cell_type": "markdown",
   "source": [
    "## Doc Data Set"
   ],
   "metadata": {
    "collapsed": false
   }
  },
  {
   "cell_type": "code",
   "execution_count": 87,
   "outputs": [],
   "source": [
    "dox_df = pd.DataFrame({})\n",
    "\n",
    "# Combined Doc data set\n",
    "data_dir_doc = r\"D:\\BioLab\\Current_experiments\\afilament\\2022.01.15_KASH_leica_cells_stat\\Doxycycline\\actin_stat_set2_combined\"\n",
    "Cell_num_doc = [\"2\", \"3\", \"4\", \"5\", \"6\", \"7\", \"9\", \"10\", \"11\", \"12\",\n",
    "               \"13\", \"14\", \"18\", \"19\", \"20\", \"18\", \"22\", \"24\", \"26\"]"
   ],
   "metadata": {
    "collapsed": false
   }
  },
  {
   "cell_type": "markdown",
   "source": [
    "#### Actin cap statistics"
   ],
   "metadata": {
    "collapsed": false
   }
  },
  {
   "cell_type": "code",
   "execution_count": 89,
   "outputs": [
    {
     "data": {
      "text/plain": "      ID  Actin Length  Actin Xsection  Actin Volume  Number of fiber layers  \\\n1      1       1.05876        0.124544      0.131862                      19   \n2      2       2.29398        0.077620      0.178060                      40   \n4      4       3.82330        0.307161      1.174368                      66   \n5      5       1.05876        0.020479      0.021682                      19   \n6      6      11.46990        0.184216      2.112941                     196   \n..   ...           ...             ...           ...                     ...   \n344  344       1.11758        0.023425      0.026179                      20   \n359  359       2.05870        0.015881      0.032695                      36   \n363  363       1.41168        0.017470      0.024661                      25   \n364  364       2.23516        0.023008      0.051426                      39   \n380  380       1.05876        0.021732      0.023009                      19   \n\n     Max gap  Left node ID  Right node ID cell num  set num part  \n1          0           NaN            NaN       10        1  cap  \n2          0           NaN            NaN       10        1  cap  \n4          0           NaN            NaN       10        1  cap  \n5          0           NaN            NaN       10        1  cap  \n6          0           NaN            NaN       10        1  cap  \n..       ...           ...            ...      ...      ...  ...  \n344        0           NaN            NaN        9        1  cap  \n359        0           NaN            NaN        9        1  cap  \n363        0           NaN            NaN        9        1  cap  \n364        0           NaN            NaN        9        1  cap  \n380        0           NaN            NaN        9        1  cap  \n\n[751 rows x 11 columns]",
      "text/html": "<div>\n<style scoped>\n    .dataframe tbody tr th:only-of-type {\n        vertical-align: middle;\n    }\n\n    .dataframe tbody tr th {\n        vertical-align: top;\n    }\n\n    .dataframe thead th {\n        text-align: right;\n    }\n</style>\n<table border=\"1\" class=\"dataframe\">\n  <thead>\n    <tr style=\"text-align: right;\">\n      <th></th>\n      <th>ID</th>\n      <th>Actin Length</th>\n      <th>Actin Xsection</th>\n      <th>Actin Volume</th>\n      <th>Number of fiber layers</th>\n      <th>Max gap</th>\n      <th>Left node ID</th>\n      <th>Right node ID</th>\n      <th>cell num</th>\n      <th>set num</th>\n      <th>part</th>\n    </tr>\n  </thead>\n  <tbody>\n    <tr>\n      <th>1</th>\n      <td>1</td>\n      <td>1.05876</td>\n      <td>0.124544</td>\n      <td>0.131862</td>\n      <td>19</td>\n      <td>0</td>\n      <td>NaN</td>\n      <td>NaN</td>\n      <td>10</td>\n      <td>1</td>\n      <td>cap</td>\n    </tr>\n    <tr>\n      <th>2</th>\n      <td>2</td>\n      <td>2.29398</td>\n      <td>0.077620</td>\n      <td>0.178060</td>\n      <td>40</td>\n      <td>0</td>\n      <td>NaN</td>\n      <td>NaN</td>\n      <td>10</td>\n      <td>1</td>\n      <td>cap</td>\n    </tr>\n    <tr>\n      <th>4</th>\n      <td>4</td>\n      <td>3.82330</td>\n      <td>0.307161</td>\n      <td>1.174368</td>\n      <td>66</td>\n      <td>0</td>\n      <td>NaN</td>\n      <td>NaN</td>\n      <td>10</td>\n      <td>1</td>\n      <td>cap</td>\n    </tr>\n    <tr>\n      <th>5</th>\n      <td>5</td>\n      <td>1.05876</td>\n      <td>0.020479</td>\n      <td>0.021682</td>\n      <td>19</td>\n      <td>0</td>\n      <td>NaN</td>\n      <td>NaN</td>\n      <td>10</td>\n      <td>1</td>\n      <td>cap</td>\n    </tr>\n    <tr>\n      <th>6</th>\n      <td>6</td>\n      <td>11.46990</td>\n      <td>0.184216</td>\n      <td>2.112941</td>\n      <td>196</td>\n      <td>0</td>\n      <td>NaN</td>\n      <td>NaN</td>\n      <td>10</td>\n      <td>1</td>\n      <td>cap</td>\n    </tr>\n    <tr>\n      <th>...</th>\n      <td>...</td>\n      <td>...</td>\n      <td>...</td>\n      <td>...</td>\n      <td>...</td>\n      <td>...</td>\n      <td>...</td>\n      <td>...</td>\n      <td>...</td>\n      <td>...</td>\n      <td>...</td>\n    </tr>\n    <tr>\n      <th>344</th>\n      <td>344</td>\n      <td>1.11758</td>\n      <td>0.023425</td>\n      <td>0.026179</td>\n      <td>20</td>\n      <td>0</td>\n      <td>NaN</td>\n      <td>NaN</td>\n      <td>9</td>\n      <td>1</td>\n      <td>cap</td>\n    </tr>\n    <tr>\n      <th>359</th>\n      <td>359</td>\n      <td>2.05870</td>\n      <td>0.015881</td>\n      <td>0.032695</td>\n      <td>36</td>\n      <td>0</td>\n      <td>NaN</td>\n      <td>NaN</td>\n      <td>9</td>\n      <td>1</td>\n      <td>cap</td>\n    </tr>\n    <tr>\n      <th>363</th>\n      <td>363</td>\n      <td>1.41168</td>\n      <td>0.017470</td>\n      <td>0.024661</td>\n      <td>25</td>\n      <td>0</td>\n      <td>NaN</td>\n      <td>NaN</td>\n      <td>9</td>\n      <td>1</td>\n      <td>cap</td>\n    </tr>\n    <tr>\n      <th>364</th>\n      <td>364</td>\n      <td>2.23516</td>\n      <td>0.023008</td>\n      <td>0.051426</td>\n      <td>39</td>\n      <td>0</td>\n      <td>NaN</td>\n      <td>NaN</td>\n      <td>9</td>\n      <td>1</td>\n      <td>cap</td>\n    </tr>\n    <tr>\n      <th>380</th>\n      <td>380</td>\n      <td>1.05876</td>\n      <td>0.021732</td>\n      <td>0.023009</td>\n      <td>19</td>\n      <td>0</td>\n      <td>NaN</td>\n      <td>NaN</td>\n      <td>9</td>\n      <td>1</td>\n      <td>cap</td>\n    </tr>\n  </tbody>\n</table>\n<p>751 rows × 11 columns</p>\n</div>"
     },
     "execution_count": 89,
     "metadata": {},
     "output_type": "execute_result"
    }
   ],
   "source": [
    "dox_cap_df = get_filtered_df(data_dir_doc, \"cap\", Cell_num_doc, 1)\n",
    "\n",
    "dox_df = dox_df.append(dox_cap_df)\n",
    "dox_df"
   ],
   "metadata": {
    "collapsed": false
   }
  },
  {
   "cell_type": "markdown",
   "source": [
    "#### Actin bottom statistics"
   ],
   "metadata": {
    "collapsed": false
   }
  },
  {
   "cell_type": "code",
   "execution_count": 90,
   "outputs": [
    {
     "data": {
      "text/plain": "      ID  Actin Length  Actin Xsection  Actin Volume  Number of fiber layers  \\\n1      1       1.05876        0.124544      0.131862                      19   \n2      2       2.29398        0.077620      0.178060                      40   \n4      4       3.82330        0.307161      1.174368                      66   \n5      5       1.05876        0.020479      0.021682                      19   \n6      6      11.46990        0.184216      2.112941                     196   \n..   ...           ...             ...           ...                     ...   \n354  354       2.35280        0.018980      0.044657                      41   \n382  382       4.41150        0.058719      0.259041                      76   \n384  384       4.05858        0.097103      0.394102                      70   \n399  399       2.52926        0.029778      0.075315                      44   \n402  402       3.17628        0.102796      0.326509                      55   \n\n     Max gap  Left node ID  Right node ID cell num  set num    part  \n1          0           NaN            NaN       10        1     cap  \n2          0           NaN            NaN       10        1     cap  \n4          0           NaN            NaN       10        1     cap  \n5          0           NaN            NaN       10        1     cap  \n6          0           NaN            NaN       10        1     cap  \n..       ...           ...            ...      ...      ...     ...  \n354        0           NaN            NaN        9        1  bottom  \n382        0           NaN            NaN        9        1  bottom  \n384        0           NaN            NaN        9        1  bottom  \n399        0           NaN            NaN        9        1  bottom  \n402        0           NaN            NaN        9        1  bottom  \n\n[1876 rows x 11 columns]",
      "text/html": "<div>\n<style scoped>\n    .dataframe tbody tr th:only-of-type {\n        vertical-align: middle;\n    }\n\n    .dataframe tbody tr th {\n        vertical-align: top;\n    }\n\n    .dataframe thead th {\n        text-align: right;\n    }\n</style>\n<table border=\"1\" class=\"dataframe\">\n  <thead>\n    <tr style=\"text-align: right;\">\n      <th></th>\n      <th>ID</th>\n      <th>Actin Length</th>\n      <th>Actin Xsection</th>\n      <th>Actin Volume</th>\n      <th>Number of fiber layers</th>\n      <th>Max gap</th>\n      <th>Left node ID</th>\n      <th>Right node ID</th>\n      <th>cell num</th>\n      <th>set num</th>\n      <th>part</th>\n    </tr>\n  </thead>\n  <tbody>\n    <tr>\n      <th>1</th>\n      <td>1</td>\n      <td>1.05876</td>\n      <td>0.124544</td>\n      <td>0.131862</td>\n      <td>19</td>\n      <td>0</td>\n      <td>NaN</td>\n      <td>NaN</td>\n      <td>10</td>\n      <td>1</td>\n      <td>cap</td>\n    </tr>\n    <tr>\n      <th>2</th>\n      <td>2</td>\n      <td>2.29398</td>\n      <td>0.077620</td>\n      <td>0.178060</td>\n      <td>40</td>\n      <td>0</td>\n      <td>NaN</td>\n      <td>NaN</td>\n      <td>10</td>\n      <td>1</td>\n      <td>cap</td>\n    </tr>\n    <tr>\n      <th>4</th>\n      <td>4</td>\n      <td>3.82330</td>\n      <td>0.307161</td>\n      <td>1.174368</td>\n      <td>66</td>\n      <td>0</td>\n      <td>NaN</td>\n      <td>NaN</td>\n      <td>10</td>\n      <td>1</td>\n      <td>cap</td>\n    </tr>\n    <tr>\n      <th>5</th>\n      <td>5</td>\n      <td>1.05876</td>\n      <td>0.020479</td>\n      <td>0.021682</td>\n      <td>19</td>\n      <td>0</td>\n      <td>NaN</td>\n      <td>NaN</td>\n      <td>10</td>\n      <td>1</td>\n      <td>cap</td>\n    </tr>\n    <tr>\n      <th>6</th>\n      <td>6</td>\n      <td>11.46990</td>\n      <td>0.184216</td>\n      <td>2.112941</td>\n      <td>196</td>\n      <td>0</td>\n      <td>NaN</td>\n      <td>NaN</td>\n      <td>10</td>\n      <td>1</td>\n      <td>cap</td>\n    </tr>\n    <tr>\n      <th>...</th>\n      <td>...</td>\n      <td>...</td>\n      <td>...</td>\n      <td>...</td>\n      <td>...</td>\n      <td>...</td>\n      <td>...</td>\n      <td>...</td>\n      <td>...</td>\n      <td>...</td>\n      <td>...</td>\n    </tr>\n    <tr>\n      <th>354</th>\n      <td>354</td>\n      <td>2.35280</td>\n      <td>0.018980</td>\n      <td>0.044657</td>\n      <td>41</td>\n      <td>0</td>\n      <td>NaN</td>\n      <td>NaN</td>\n      <td>9</td>\n      <td>1</td>\n      <td>bottom</td>\n    </tr>\n    <tr>\n      <th>382</th>\n      <td>382</td>\n      <td>4.41150</td>\n      <td>0.058719</td>\n      <td>0.259041</td>\n      <td>76</td>\n      <td>0</td>\n      <td>NaN</td>\n      <td>NaN</td>\n      <td>9</td>\n      <td>1</td>\n      <td>bottom</td>\n    </tr>\n    <tr>\n      <th>384</th>\n      <td>384</td>\n      <td>4.05858</td>\n      <td>0.097103</td>\n      <td>0.394102</td>\n      <td>70</td>\n      <td>0</td>\n      <td>NaN</td>\n      <td>NaN</td>\n      <td>9</td>\n      <td>1</td>\n      <td>bottom</td>\n    </tr>\n    <tr>\n      <th>399</th>\n      <td>399</td>\n      <td>2.52926</td>\n      <td>0.029778</td>\n      <td>0.075315</td>\n      <td>44</td>\n      <td>0</td>\n      <td>NaN</td>\n      <td>NaN</td>\n      <td>9</td>\n      <td>1</td>\n      <td>bottom</td>\n    </tr>\n    <tr>\n      <th>402</th>\n      <td>402</td>\n      <td>3.17628</td>\n      <td>0.102796</td>\n      <td>0.326509</td>\n      <td>55</td>\n      <td>0</td>\n      <td>NaN</td>\n      <td>NaN</td>\n      <td>9</td>\n      <td>1</td>\n      <td>bottom</td>\n    </tr>\n  </tbody>\n</table>\n<p>1876 rows × 11 columns</p>\n</div>"
     },
     "execution_count": 90,
     "metadata": {},
     "output_type": "execute_result"
    }
   ],
   "source": [
    "dox_bottom_df = get_filtered_df(data_dir_doc, \"bottom\", Cell_num_doc, 1)\n",
    "\n",
    "dox_df = dox_df.append(dox_bottom_df)\n",
    "dox_df"
   ],
   "metadata": {
    "collapsed": false
   }
  },
  {
   "cell_type": "markdown",
   "source": [
    "#### Actin whole cells statistics"
   ],
   "metadata": {
    "collapsed": false
   }
  },
  {
   "cell_type": "code",
   "execution_count": 91,
   "outputs": [
    {
     "data": {
      "text/plain": "      ID  Actin Length  Actin Xsection  Actin Volume  Number of fiber layers  \\\n1      1       1.05876        0.124544      0.131862                      19   \n2      2       2.29398        0.077620      0.178060                      40   \n4      4       3.82330        0.307161      1.174368                      66   \n5      5       1.05876        0.020479      0.021682                      19   \n6      6      11.46990        0.184216      2.112941                     196   \n..   ...           ...             ...           ...                     ...   \n103  525       1.11758        0.017073      0.019080                      20   \n104  112       1.05876        0.164665      0.174341                      19   \n105  149       1.05876        0.078989      0.083630                      19   \n106  246       1.05876        0.006687      0.007080                      19   \n107  667       1.05876        0.053495      0.056639                      19   \n\n     Max gap  Left node ID  Right node ID cell num  set num  part  \n1          0           NaN            NaN       10        1   cap  \n2          0           NaN            NaN       10        1   cap  \n4          0           NaN            NaN       10        1   cap  \n5          0           NaN            NaN       10        1   cap  \n6          0           NaN            NaN       10        1   cap  \n..       ...           ...            ...      ...      ...   ...  \n103        0           NaN            NaN        9        1  cell  \n104        0           NaN            NaN        9        1  cell  \n105        0           NaN            NaN        9        1  cell  \n106        0           NaN            NaN        9        1  cell  \n107        0           NaN            NaN        9        1  cell  \n\n[2956 rows x 11 columns]",
      "text/html": "<div>\n<style scoped>\n    .dataframe tbody tr th:only-of-type {\n        vertical-align: middle;\n    }\n\n    .dataframe tbody tr th {\n        vertical-align: top;\n    }\n\n    .dataframe thead th {\n        text-align: right;\n    }\n</style>\n<table border=\"1\" class=\"dataframe\">\n  <thead>\n    <tr style=\"text-align: right;\">\n      <th></th>\n      <th>ID</th>\n      <th>Actin Length</th>\n      <th>Actin Xsection</th>\n      <th>Actin Volume</th>\n      <th>Number of fiber layers</th>\n      <th>Max gap</th>\n      <th>Left node ID</th>\n      <th>Right node ID</th>\n      <th>cell num</th>\n      <th>set num</th>\n      <th>part</th>\n    </tr>\n  </thead>\n  <tbody>\n    <tr>\n      <th>1</th>\n      <td>1</td>\n      <td>1.05876</td>\n      <td>0.124544</td>\n      <td>0.131862</td>\n      <td>19</td>\n      <td>0</td>\n      <td>NaN</td>\n      <td>NaN</td>\n      <td>10</td>\n      <td>1</td>\n      <td>cap</td>\n    </tr>\n    <tr>\n      <th>2</th>\n      <td>2</td>\n      <td>2.29398</td>\n      <td>0.077620</td>\n      <td>0.178060</td>\n      <td>40</td>\n      <td>0</td>\n      <td>NaN</td>\n      <td>NaN</td>\n      <td>10</td>\n      <td>1</td>\n      <td>cap</td>\n    </tr>\n    <tr>\n      <th>4</th>\n      <td>4</td>\n      <td>3.82330</td>\n      <td>0.307161</td>\n      <td>1.174368</td>\n      <td>66</td>\n      <td>0</td>\n      <td>NaN</td>\n      <td>NaN</td>\n      <td>10</td>\n      <td>1</td>\n      <td>cap</td>\n    </tr>\n    <tr>\n      <th>5</th>\n      <td>5</td>\n      <td>1.05876</td>\n      <td>0.020479</td>\n      <td>0.021682</td>\n      <td>19</td>\n      <td>0</td>\n      <td>NaN</td>\n      <td>NaN</td>\n      <td>10</td>\n      <td>1</td>\n      <td>cap</td>\n    </tr>\n    <tr>\n      <th>6</th>\n      <td>6</td>\n      <td>11.46990</td>\n      <td>0.184216</td>\n      <td>2.112941</td>\n      <td>196</td>\n      <td>0</td>\n      <td>NaN</td>\n      <td>NaN</td>\n      <td>10</td>\n      <td>1</td>\n      <td>cap</td>\n    </tr>\n    <tr>\n      <th>...</th>\n      <td>...</td>\n      <td>...</td>\n      <td>...</td>\n      <td>...</td>\n      <td>...</td>\n      <td>...</td>\n      <td>...</td>\n      <td>...</td>\n      <td>...</td>\n      <td>...</td>\n      <td>...</td>\n    </tr>\n    <tr>\n      <th>103</th>\n      <td>525</td>\n      <td>1.11758</td>\n      <td>0.017073</td>\n      <td>0.019080</td>\n      <td>20</td>\n      <td>0</td>\n      <td>NaN</td>\n      <td>NaN</td>\n      <td>9</td>\n      <td>1</td>\n      <td>cell</td>\n    </tr>\n    <tr>\n      <th>104</th>\n      <td>112</td>\n      <td>1.05876</td>\n      <td>0.164665</td>\n      <td>0.174341</td>\n      <td>19</td>\n      <td>0</td>\n      <td>NaN</td>\n      <td>NaN</td>\n      <td>9</td>\n      <td>1</td>\n      <td>cell</td>\n    </tr>\n    <tr>\n      <th>105</th>\n      <td>149</td>\n      <td>1.05876</td>\n      <td>0.078989</td>\n      <td>0.083630</td>\n      <td>19</td>\n      <td>0</td>\n      <td>NaN</td>\n      <td>NaN</td>\n      <td>9</td>\n      <td>1</td>\n      <td>cell</td>\n    </tr>\n    <tr>\n      <th>106</th>\n      <td>246</td>\n      <td>1.05876</td>\n      <td>0.006687</td>\n      <td>0.007080</td>\n      <td>19</td>\n      <td>0</td>\n      <td>NaN</td>\n      <td>NaN</td>\n      <td>9</td>\n      <td>1</td>\n      <td>cell</td>\n    </tr>\n    <tr>\n      <th>107</th>\n      <td>667</td>\n      <td>1.05876</td>\n      <td>0.053495</td>\n      <td>0.056639</td>\n      <td>19</td>\n      <td>0</td>\n      <td>NaN</td>\n      <td>NaN</td>\n      <td>9</td>\n      <td>1</td>\n      <td>cell</td>\n    </tr>\n  </tbody>\n</table>\n<p>2956 rows × 11 columns</p>\n</div>"
     },
     "execution_count": 91,
     "metadata": {},
     "output_type": "execute_result"
    }
   ],
   "source": [
    "dox_cell_df = get_filtered_df(data_dir_doc, \"cell\", Cell_num_doc, 1)\n",
    "\n",
    "dox_df = dox_df.append(dox_cell_df)\n",
    "dox_df"
   ],
   "metadata": {
    "collapsed": false
   }
  },
  {
   "cell_type": "markdown",
   "source": [
    "## Combine contol and doc data\n"
   ],
   "metadata": {
    "collapsed": false
   }
  },
  {
   "cell_type": "code",
   "execution_count": 95,
   "outputs": [
    {
     "data": {
      "text/plain": "       ID  Actin Length  Actin Xsection  Actin Volume  Number of fiber layers  \\\n1       1       1.05876        0.124544      0.131862                      19   \n2       2       2.29398        0.077620      0.178060                      40   \n4       4       3.82330        0.307161      1.174368                      66   \n5       5       1.05876        0.020479      0.021682                      19   \n6       6      11.46990        0.184216      2.112941                     196   \n..    ...           ...             ...           ...                     ...   \n173  1159       1.05876        0.091527      0.096905                      19   \n174  1454       1.05876        0.042629      0.045134                      19   \n175  1481       1.05876        0.043883      0.046461                      19   \n176  1608       1.05876        0.030927      0.032744                      19   \n177  1888       1.05876        0.089019      0.094250                      19   \n\n     Max gap  Left node ID  Right node ID cell num  set num  part treatment  \n1          0           NaN            NaN       10        1   cap       Doc  \n2          0           NaN            NaN       10        1   cap       Doc  \n4          0           NaN            NaN       10        1   cap       Doc  \n5          0           NaN            NaN       10        1   cap       Doc  \n6          0           NaN            NaN       10        1   cap       Doc  \n..       ...           ...            ...      ...      ...   ...       ...  \n173        0           NaN            NaN        8        2  cell       Cnt  \n174        0           NaN            NaN        8        2  cell       Cnt  \n175        0           NaN            NaN        8        2  cell       Cnt  \n176        0           NaN            NaN        8        2  cell       Cnt  \n177        0           NaN            NaN        8        2  cell       Cnt  \n\n[6879 rows x 12 columns]",
      "text/html": "<div>\n<style scoped>\n    .dataframe tbody tr th:only-of-type {\n        vertical-align: middle;\n    }\n\n    .dataframe tbody tr th {\n        vertical-align: top;\n    }\n\n    .dataframe thead th {\n        text-align: right;\n    }\n</style>\n<table border=\"1\" class=\"dataframe\">\n  <thead>\n    <tr style=\"text-align: right;\">\n      <th></th>\n      <th>ID</th>\n      <th>Actin Length</th>\n      <th>Actin Xsection</th>\n      <th>Actin Volume</th>\n      <th>Number of fiber layers</th>\n      <th>Max gap</th>\n      <th>Left node ID</th>\n      <th>Right node ID</th>\n      <th>cell num</th>\n      <th>set num</th>\n      <th>part</th>\n      <th>treatment</th>\n    </tr>\n  </thead>\n  <tbody>\n    <tr>\n      <th>1</th>\n      <td>1</td>\n      <td>1.05876</td>\n      <td>0.124544</td>\n      <td>0.131862</td>\n      <td>19</td>\n      <td>0</td>\n      <td>NaN</td>\n      <td>NaN</td>\n      <td>10</td>\n      <td>1</td>\n      <td>cap</td>\n      <td>Doc</td>\n    </tr>\n    <tr>\n      <th>2</th>\n      <td>2</td>\n      <td>2.29398</td>\n      <td>0.077620</td>\n      <td>0.178060</td>\n      <td>40</td>\n      <td>0</td>\n      <td>NaN</td>\n      <td>NaN</td>\n      <td>10</td>\n      <td>1</td>\n      <td>cap</td>\n      <td>Doc</td>\n    </tr>\n    <tr>\n      <th>4</th>\n      <td>4</td>\n      <td>3.82330</td>\n      <td>0.307161</td>\n      <td>1.174368</td>\n      <td>66</td>\n      <td>0</td>\n      <td>NaN</td>\n      <td>NaN</td>\n      <td>10</td>\n      <td>1</td>\n      <td>cap</td>\n      <td>Doc</td>\n    </tr>\n    <tr>\n      <th>5</th>\n      <td>5</td>\n      <td>1.05876</td>\n      <td>0.020479</td>\n      <td>0.021682</td>\n      <td>19</td>\n      <td>0</td>\n      <td>NaN</td>\n      <td>NaN</td>\n      <td>10</td>\n      <td>1</td>\n      <td>cap</td>\n      <td>Doc</td>\n    </tr>\n    <tr>\n      <th>6</th>\n      <td>6</td>\n      <td>11.46990</td>\n      <td>0.184216</td>\n      <td>2.112941</td>\n      <td>196</td>\n      <td>0</td>\n      <td>NaN</td>\n      <td>NaN</td>\n      <td>10</td>\n      <td>1</td>\n      <td>cap</td>\n      <td>Doc</td>\n    </tr>\n    <tr>\n      <th>...</th>\n      <td>...</td>\n      <td>...</td>\n      <td>...</td>\n      <td>...</td>\n      <td>...</td>\n      <td>...</td>\n      <td>...</td>\n      <td>...</td>\n      <td>...</td>\n      <td>...</td>\n      <td>...</td>\n      <td>...</td>\n    </tr>\n    <tr>\n      <th>173</th>\n      <td>1159</td>\n      <td>1.05876</td>\n      <td>0.091527</td>\n      <td>0.096905</td>\n      <td>19</td>\n      <td>0</td>\n      <td>NaN</td>\n      <td>NaN</td>\n      <td>8</td>\n      <td>2</td>\n      <td>cell</td>\n      <td>Cnt</td>\n    </tr>\n    <tr>\n      <th>174</th>\n      <td>1454</td>\n      <td>1.05876</td>\n      <td>0.042629</td>\n      <td>0.045134</td>\n      <td>19</td>\n      <td>0</td>\n      <td>NaN</td>\n      <td>NaN</td>\n      <td>8</td>\n      <td>2</td>\n      <td>cell</td>\n      <td>Cnt</td>\n    </tr>\n    <tr>\n      <th>175</th>\n      <td>1481</td>\n      <td>1.05876</td>\n      <td>0.043883</td>\n      <td>0.046461</td>\n      <td>19</td>\n      <td>0</td>\n      <td>NaN</td>\n      <td>NaN</td>\n      <td>8</td>\n      <td>2</td>\n      <td>cell</td>\n      <td>Cnt</td>\n    </tr>\n    <tr>\n      <th>176</th>\n      <td>1608</td>\n      <td>1.05876</td>\n      <td>0.030927</td>\n      <td>0.032744</td>\n      <td>19</td>\n      <td>0</td>\n      <td>NaN</td>\n      <td>NaN</td>\n      <td>8</td>\n      <td>2</td>\n      <td>cell</td>\n      <td>Cnt</td>\n    </tr>\n    <tr>\n      <th>177</th>\n      <td>1888</td>\n      <td>1.05876</td>\n      <td>0.089019</td>\n      <td>0.094250</td>\n      <td>19</td>\n      <td>0</td>\n      <td>NaN</td>\n      <td>NaN</td>\n      <td>8</td>\n      <td>2</td>\n      <td>cell</td>\n      <td>Cnt</td>\n    </tr>\n  </tbody>\n</table>\n<p>6879 rows × 12 columns</p>\n</div>"
     },
     "execution_count": 95,
     "metadata": {},
     "output_type": "execute_result"
    }
   ],
   "source": [
    "dox_df[\"treatment\"] = \"Doc\"\n",
    "cnt_df[\"treatment\"] = \"Cnt\"\n",
    "\n",
    "df_combined = dox_df.append(cnt_df)\n",
    "df_combined"
   ],
   "metadata": {
    "collapsed": false
   }
  },
  {
   "cell_type": "markdown",
   "source": [
    "## Statistics and Figures"
   ],
   "metadata": {
    "collapsed": false
   }
  },
  {
   "cell_type": "code",
   "execution_count": 97,
   "outputs": [],
   "source": [
    "def convert_pvalue_to_asterisks(pvalue):\n",
    "    if pvalue <= 0.0001:\n",
    "        return \"****\"\n",
    "    elif pvalue <= 0.001:\n",
    "        return \"***\"\n",
    "    elif pvalue <= 0.01:\n",
    "        return \"**\"\n",
    "    elif pvalue <= 0.05:\n",
    "        return \"*\"\n",
    "    return \"ns\""
   ],
   "metadata": {
    "collapsed": false
   }
  },
  {
   "cell_type": "code",
   "execution_count": 96,
   "outputs": [
    {
     "data": {
      "text/plain": "0.0015148922142772304"
     },
     "execution_count": 96,
     "metadata": {},
     "output_type": "execute_result"
    }
   ],
   "source": [
    "stat, pvalue = scipy.stats.ttest_ind(dox_cap_df[\"Actin Length\"], cnt_cap_df[\"Actin Length\"])\n",
    "pvalue"
   ],
   "metadata": {
    "collapsed": false
   }
  },
  {
   "cell_type": "code",
   "execution_count": 93,
   "outputs": [
    {
     "data": {
      "text/plain": "<AxesSubplot:xlabel='treatment', ylabel='Actin Length'>"
     },
     "execution_count": 93,
     "metadata": {},
     "output_type": "execute_result"
    },
    {
     "data": {
      "text/plain": "<Figure size 432x288 with 1 Axes>",
      "image/png": "[encoded data removed]"
     },
     "metadata": {},
     "output_type": "display_data"
    }
   ],
   "source": [
    "sns.boxplot(x=\"treatment\", y=\"Actin Length\", data=df_combined, palette=\"PRGn\")"
   ],
   "metadata": {
    "collapsed": false
   }
  },
  {
   "cell_type": "code",
   "execution_count": null,
   "outputs": [],
   "source": [
    "pvalues = []\n",
    "x_values = df[\"x_column\"].unique()\n",
    "parts = [\"cap\", \"bottom\", \"cell\"]\n",
    "pvalues = []\n",
    "for x in x_values:\n",
    "    stat, pvalue = scipy.stats.ttest_ind(\n",
    "        df[(df[\"x_column\"] == x) & (df[\"hue_column\"] == hue1)],\n",
    "        df[(df[\"x_column\"] == x) & (df[\"hue_column\"] == hue2)]\n",
    "    )"
   ],
   "metadata": {
    "collapsed": false
   }
  }
 ],
 "metadata": {
  "kernelspec": {
   "display_name": "Python 3",
   "language": "python",
   "name": "python3"
  },
  "language_info": {
   "codemirror_mode": {
    "name": "ipython",
    "version": 2
   },
   "file_extension": ".py",
   "mimetype": "text/x-python",
   "name": "python",
   "nbconvert_exporter": "python",
   "pygments_lexer": "ipython2",
   "version": "2.7.6"
  }
 },
 "nbformat": 4,
 "nbformat_minor": 0
}
